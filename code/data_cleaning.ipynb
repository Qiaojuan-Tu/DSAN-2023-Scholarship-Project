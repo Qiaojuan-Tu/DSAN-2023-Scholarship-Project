{
 "cells": [
  {
   "cell_type": "code",
   "execution_count": 137,
   "metadata": {},
   "outputs": [],
   "source": [
    "import pandas as pd \n",
    "import numpy as np\n",
    "import re\n"
   ]
  },
  {
   "cell_type": "markdown",
   "metadata": {},
   "source": [
    "### Cleaning Title"
   ]
  },
  {
   "cell_type": "code",
   "execution_count": 138,
   "metadata": {},
   "outputs": [
    {
     "data": {
      "text/plain": [
       "array(['Blockchain Engineer/Developer', 'Software Engineer',\n",
       "       'Machine Learning Engineer', 'Data Analyst', 'Data Scientist',\n",
       "       'Natural Language Processing Developer',\n",
       "       'Big Data Engineer/Architect', 'Data Engineer', 'Cloud Engineer',\n",
       "       'Research Scientist', 'Deep Learning Engineer',\n",
       "       'Other Data Related Jobs', 'AI Engineer'], dtype=object)"
      ]
     },
     "execution_count": 138,
     "metadata": {},
     "output_type": "execute_result"
    }
   ],
   "source": [
    "# load data ------\n",
    "all_jobs = pd.read_csv(\"../data/cleaned/all_job.csv\")\n",
    "all_jobs = all_jobs.drop([\"Unnamed: 0\",\"job_id\"], axis = 1)\n",
    "all_jobs[\"title_category\"] = all_jobs[\"title\"]\n",
    "last_col = all_jobs.pop(all_jobs.columns[-1])\n",
    "all_jobs.insert(1, last_col.name, last_col)\n",
    "\n",
    "#cleaning title ------\n",
    "mask_ds = all_jobs['title_category'].str.contains('Data Scientist|data scientist|DATA SCIENTIST|Data Science')\n",
    "all_jobs.loc[mask_ds, 'title_category'] = 'Data Scientist'\n",
    "\n",
    "mask_da = all_jobs['title_category'].str.contains('Data Analyst|data analyst|DATA ANALYST|Data Analytics|Data analytics|Data analyst|Data & Analytics|Data & Technology Analyst')\n",
    "all_jobs.loc[mask_da, 'title_category'] = 'Data Analyst'\n",
    "\n",
    "mask_de = all_jobs['title_category'].str.contains('Data Engineer|data engineer|DATA ENGINEER|Data Engineering')\n",
    "all_jobs.loc[mask_de, 'title_category'] = 'Data Engineer'\n",
    "\n",
    "mask_se = all_jobs['title_category'].str.contains('Software Engineer|software engineer|SOFTWARE ENGINEER|SDE')\n",
    "all_jobs.loc[mask_se, 'title_category'] = 'Software Engineer'\n",
    "\n",
    "mask_bc = all_jobs['title_category'].str.contains('Blockchain|blockchain|Block Chain')\n",
    "all_jobs.loc[mask_bc, 'title_category'] = 'Blockchain Engineer/Developer'\n",
    "\n",
    "mask_ml = all_jobs['title_category'].str.contains('Machine Learning Engineer|MACHINE LEARNING|Machine Learning|machine learning engineering|ML')\n",
    "all_jobs.loc[mask_ml, 'title_category'] = 'Machine Learning Engineer'\n",
    "\n",
    "mask_dl = all_jobs['title_category'].str.contains('Deep Learning|Deep Reinforcement Learning|Neural Network|DEEP LEARNING ENGINEERS|Reinforcement Learning|neural networks|neural network')\n",
    "all_jobs.loc[mask_dl, 'title_category'] = 'Deep Learning Engineer'\n",
    "\n",
    "mask_bd = all_jobs['title_category'].str.contains('BIG DATA|big data|Big Data|Big data')\n",
    "all_jobs.loc[mask_bd, 'title_category'] = 'Big Data Engineer/Architect'\n",
    "\n",
    "mask_nlp = all_jobs['title_category'].str.contains('NLP|Natural Language Processing|Natural language processing')\n",
    "all_jobs.loc[mask_nlp, 'title_category'] = 'Natural Language Processing Developer'\n",
    "\n",
    "mask_rs = all_jobs['title_category'].str.contains('Research')\n",
    "all_jobs.loc[mask_rs, 'title_category'] = 'Research Scientist'\n",
    "\n",
    "mask_cloud = all_jobs['title_category'].str.contains('Cloud|cloud')\n",
    "all_jobs.loc[mask_cloud, 'title_category'] = 'Cloud Engineer'\n",
    "\n",
    "mask_ai = all_jobs['title_category'].str.contains('AI')\n",
    "all_jobs.loc[mask_ai, 'title_category'] = 'AI Engineer'\n",
    "\n",
    "categories = ['Data Analyst', 'Data Scientist', 'Data Engineer','Software Engineer','Blockchain Engineer/Developer','Machine Learning Engineer','Deep Learning Engineer','Big Data Engineer/Architect','Natural Language Processing Developer','Research Scientist','Cloud Engineer','AI Engineer']\n",
    "mask_other = all_jobs['title_category'].isin(categories)\n",
    "all_jobs.loc[~mask_other, 'title_category'] = 'Other Data Related Jobs'\n",
    "\n",
    "all_jobs[\"title_category\"].unique()\n"
   ]
  },
  {
   "cell_type": "markdown",
   "metadata": {},
   "source": [
    "## Language Tool counts"
   ]
  },
  {
   "cell_type": "code",
   "execution_count": 139,
   "metadata": {},
   "outputs": [],
   "source": [
    "all_jobs['sql_count'] = all_jobs['description'].str.lower().apply(lambda x: len(re.findall(r'\\bsql\\b', x)))\n",
    "all_jobs['python_count'] = all_jobs['description'].str.lower().apply(lambda x: len(re.findall(r'\\bpython\\b', x)))\n",
    "all_jobs['R_count'] = all_jobs['description'].str.count(r'\\bR\\b')\n",
    "all_jobs['java_count'] = all_jobs['description'].str.lower().apply(lambda x: len(re.findall(r'\\bjava\\b', x)))\n",
    "all_jobs['linux_count'] = all_jobs['description'].str.lower().apply(lambda x: len(re.findall(r'\\blinux\\b', x)))\n",
    "all_jobs['sas_count'] = all_jobs['description'].str.lower().apply(lambda x: len(re.findall(r'\\bsas\\b', x)))\n",
    "\n",
    "\n",
    "tools = all_jobs[['title_category', 'sql_count','python_count','R_count','java_count','linux_count','sas_count']]\n",
    "tools.to_csv(\"../data/cleaned/tools.csv\")"
   ]
  },
  {
   "cell_type": "markdown",
   "metadata": {},
   "source": [
    "# Degree"
   ]
  },
  {
   "cell_type": "code",
   "execution_count": 159,
   "metadata": {},
   "outputs": [],
   "source": [
    "# mask_ai = all_jobs['title_category'].str.contains('AI')\n",
    "# all_jobs.loc[mask_ai, 'title_category'] = 'AI Engineer'\n",
    "all_jobs[\"phd\"] = None\n",
    "mask_phd = all_jobs['Qualification'].str.contains('phd|Ph.D|PhD|Doctorate')\n",
    "all_jobs.loc[mask_phd, 'phd'] = 'PhD'\n",
    "all_jobs[\"phd\"]= all_jobs[\"phd\"].fillna('')\n",
    "\n",
    "all_jobs[\"master\"] = None\n",
    "mask_phd = all_jobs['Qualification'].str.contains('MS|Master\\'s|MSc|M.S.|Graduate Degree|Master of Science')\n",
    "all_jobs.loc[mask_phd, 'master'] = 'Master'\n",
    "all_jobs[\"master\"]= all_jobs[\"master\"].fillna('')\n",
    "\n",
    "\n",
    "all_jobs[\"bachelor\"] = None\n",
    "mask_phd = all_jobs['Qualification'].str.contains('Bachelor\\’s.|BS')\n",
    "all_jobs.loc[mask_phd, 'bachelor'] = 'Bachelor'\n",
    "all_jobs[\"bachelor\"] = all_jobs[\"bachelor\"].fillna('')\n",
    "\n",
    "all_jobs[\"hs\"] = None\n",
    "mask_phd = all_jobs['Qualification'].str.contains('GED|High School Diploma')\n",
    "all_jobs.loc[mask_phd, 'hs'] = 'HighSchool'\n",
    "all_jobs[\"hs\"] = all_jobs[\"hs\"].fillna('')\n",
    "\n"
   ]
  },
  {
   "cell_type": "code",
   "execution_count": 163,
   "metadata": {},
   "outputs": [
    {
     "name": "stderr",
     "output_type": "stream",
     "text": [
      "/var/folders/_2/33mp53_x0hggvd5wvtm7xmhr0000gn/T/ipykernel_79102/27866767.py:3: FutureWarning: The default value of regex will change from True to False in a future version.\n",
      "  all_jobs[\"Degree Requirement\"] = all_jobs[\"Degree Requirement\"].str.replace(r\"\\s+\", \",\")\n"
     ]
    }
   ],
   "source": [
    "all_jobs[\"Degree Requirement\"] = all_jobs[\"phd\"]+ \" \" + all_jobs[\"master\"] + \" \" +  all_jobs[\"bachelor\"] + \" \"+ all_jobs[\"hs\"]\n",
    "all_jobs[\"Degree Requirement\"] = all_jobs[\"Degree Requirement\"].str.strip().replace(\" \", \",\")\n",
    "all_jobs[\"Degree Requirement\"] = all_jobs[\"Degree Requirement\"].str.replace(r\"\\s+\", \",\")"
   ]
  },
  {
   "cell_type": "code",
   "execution_count": 166,
   "metadata": {},
   "outputs": [],
   "source": [
    "all_jobs.to_csv(\"../data/cleaned/degree.csv\")"
   ]
  },
  {
   "cell_type": "markdown",
   "metadata": {},
   "source": [
    "# Get Locations"
   ]
  },
  {
   "cell_type": "code",
   "execution_count": 82,
   "metadata": {},
   "outputs": [],
   "source": [
    "from geopy.geocoders import Nominatim\n"
   ]
  },
  {
   "cell_type": "code",
   "execution_count": 90,
   "metadata": {},
   "outputs": [],
   "source": [
    "geolocator = Nominatim(user_agent='myapp')\n",
    "\n",
    "def get_coordinates(location):\n",
    "    try:\n",
    "        geocode = geolocator.geocode(location)\n",
    "        lat, lon = geocode.latitude, geocode.longitude\n",
    "    except:\n",
    "        lat, lon = None, None\n",
    "\n",
    "    return lat, lon\n",
    "\n",
    "all_jobs[['latitude', 'longitude']] = all_jobs.apply(lambda row: pd.Series(get_coordinates(row[\"location\"])), axis=1)\n"
   ]
  },
  {
   "cell_type": "code",
   "execution_count": 91,
   "metadata": {},
   "outputs": [],
   "source": [
    "all_jobs.to_csv('../data/cleaned/all_job_location.csv')"
   ]
  },
  {
   "cell_type": "code",
   "execution_count": 94,
   "metadata": {},
   "outputs": [],
   "source": [
    "map = all_jobs[['location', 'latitude','longitude']]\n",
    "map.to_csv(\"../data/cleaned/map.csv\")"
   ]
  }
 ],
 "metadata": {
  "kernelspec": {
   "display_name": "Python 3.10.8 ('anly503')",
   "language": "python",
   "name": "python3"
  },
  "language_info": {
   "codemirror_mode": {
    "name": "ipython",
    "version": 3
   },
   "file_extension": ".py",
   "mimetype": "text/x-python",
   "name": "python",
   "nbconvert_exporter": "python",
   "pygments_lexer": "ipython3",
   "version": "3.10.8"
  },
  "orig_nbformat": 4,
  "vscode": {
   "interpreter": {
    "hash": "7bc8610d3a4e8697fbcca6cd340a877d04a382089f033c69504ffedec9e80b95"
   }
  }
 },
 "nbformat": 4,
 "nbformat_minor": 2
}
