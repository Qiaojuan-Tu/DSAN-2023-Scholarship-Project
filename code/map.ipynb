{
 "cells": [
  {
   "cell_type": "code",
   "execution_count": 12,
   "metadata": {},
   "outputs": [],
   "source": [
    "import plotly.graph_objects as go\n",
    "import pandas as pd\n"
   ]
  },
  {
   "cell_type": "code",
   "execution_count": 13,
   "metadata": {},
   "outputs": [],
   "source": [
    "data = pd.read_csv(\"../data/cleaned/map.csv\")\n",
    "data = data.drop([\"Unnamed: 0\"], axis = 1)"
   ]
  },
  {
   "cell_type": "code",
   "execution_count": 14,
   "metadata": {},
   "outputs": [],
   "source": [
    "counts = data['location'].value_counts().sort_index()\n",
    "new_df = pd.DataFrame({'location': counts.index, 'count': counts.values})\n",
    "merged_df = pd.merge(data,new_df, on='location').drop_duplicates()"
   ]
  },
  {
   "cell_type": "code",
   "execution_count": 15,
   "metadata": {},
   "outputs": [
    {
     "data": {
      "application/vnd.plotly.v1+json": {
       "config": {
        "plotlyServerURL": "https://plot.ly"
       },
       "data": [
        {
         "lat": [
          38.980666,
          38.882334,
          39.7589478,
          39.04979325,
          38.72821225,
          38.9013729,
          39.00380985,
          39.2864787,
          null,
          42.3459271,
          42.3370414,
          31.035862,
          40.4416941,
          39.1014537,
          null,
          39.17130815,
          38.9424464,
          40.6526006,
          37.3790629,
          40.2101972,
          43.0349931,
          38.8950368,
          null,
          42.5750939,
          39.0197327,
          36.3320197,
          null,
          37.9093702,
          37.226611,
          37.0586882,
          42.2681569,
          37.8708393,
          42.2836393,
          40.2205944,
          29.7589382,
          null,
          39.2085027,
          39.6892129,
          42.2694308,
          34.1476452,
          29.7946641,
          40.7695457,
          null,
          38.9697458,
          40.1164841,
          42.3056501,
          41.3975305,
          42.0447388,
          42.1711365,
          null,
          35.7882893,
          45.0761409,
          44.818173,
          42.325578,
          40.0796606,
          34.729847,
          40.3492744,
          32.7355816,
          33.6856969,
          35.2272086,
          37.6624312,
          42.1900249,
          37.8590272,
          36.1672559,
          42.4792618,
          null,
          35.6571367,
          39.100105,
          41.0339862,
          33.5462168,
          38.577359,
          37.8314089,
          42.9632405,
          44.9772995
         ],
         "locationmode": "USA-states",
         "lon": [
          -76.9369189,
          -77.1710914,
          -84.1916069,
          -77.05228508396917,
          -77.15098291295884,
          -77.2651762,
          -77.40832792370676,
          -80.2561981,
          null,
          -71.5522874,
          -71.2092214,
          -85.39815287941555,
          -79.9900861,
          -84.5124602,
          null,
          -77.26557848822242,
          -76.7301718,
          -73.9497211,
          -122.116578,
          -77.0047276,
          -87.922497,
          -77.0365427,
          null,
          -71.0786653,
          -76.59026765175719,
          -94.1185366,
          null,
          -122.6863733,
          -121.9746797,
          -95.713312,
          -83.7312291,
          -122.272863,
          -71.346996,
          -74.7597219,
          -95.3676974,
          null,
          -84.5054157,
          -86.5224984,
          -71.6129907,
          -118.1444779,
          -98.7319703,
          -74.0204177,
          null,
          -94.7845837,
          -88.2430932,
          -71.5245087,
          -90.8995898,
          -87.6930459,
          -87.8445119,
          null,
          -78.7812081,
          -93.1666945,
          -93.1659179,
          -87.8411818,
          -89.4337288,
          -86.5859011,
          -74.6592958,
          -97.1071186,
          -117.8259819,
          -80.8430827,
          -121.8746789,
          -87.9084039,
          -122.485469,
          -115.148516,
          -71.1522766,
          null,
          -97.4649038,
          -94.5781416,
          -73.7629097,
          -95.7257949,
          -92.1724265,
          -122.2865266,
          -85.6678639,
          -93.2654692
         ],
         "marker": {
          "color": "rgb(237, 43, 42)",
          "line": {
           "color": "rgb(40,40,40)",
           "width": 0.5
          },
          "size": [
           20,
           20,
           20,
           20,
           20,
           20,
           20,
           20,
           20,
           20,
           20,
           20,
           20,
           20,
           20,
           20,
           20,
           20,
           20,
           20,
           20,
           20,
           20,
           20,
           20,
           20,
           20,
           20,
           20,
           20,
           20,
           20,
           20,
           20,
           20,
           20,
           20,
           20,
           20,
           20,
           20,
           20,
           20,
           20,
           20,
           20,
           20,
           20,
           20,
           20,
           20,
           20,
           20,
           20,
           20,
           20,
           20,
           20,
           20,
           20,
           20,
           20,
           20,
           20,
           20,
           20,
           20,
           20,
           20,
           20,
           20,
           20,
           20,
           20
          ],
          "sizemode": "area"
         },
         "name": "0 - 2",
         "text": [
          "  College Park, MD   <br>Number of Jobs:1",
          "  Falls Church, VA   <br>Number of Jobs:1",
          "  Dayton, OH   <br>Number of Jobs:1",
          "  Wheaton-Glenmont, MD   <br>Number of Jobs:1",
          "  Fort Belvoir, VA   <br>Number of Jobs:1",
          "  Vienna, VA   <br>Number of Jobs:1",
          "  Sterling, VA   <br>Number of Jobs:1",
          "  Bridgeport, WV   <br>Number of Jobs:1",
          "  Lexington, MA  (+1 other)    <br>Number of Jobs:1",
          "  Marlborough, MA   <br>Number of Jobs:1",
          "  Newton, MA   <br>Number of Jobs:1",
          "  Madrid, AL   <br>Number of Jobs:1",
          "  Pittsburgh, PA   <br>Number of Jobs:1",
          "  Cincinnati, OH   <br>Number of Jobs:1",
          "  Ohio  (+1 other)    <br>Number of Jobs:1",
          "  Germantown, MD   <br>Number of Jobs:1",
          "  Bowie, MD   <br>Number of Jobs:1",
          "  Brooklyn, NY   <br>Number of Jobs:1",
          "  Los Altos, CA   <br>Number of Jobs:1",
          "  Mechanicsburg, PA   <br>Number of Jobs:1",
          "  Milwaukee, WI   <br>Number of Jobs:1",
          "  Washington   <br>Number of Jobs:1",
          "  Texas   (+5 others)   <br>Number of Jobs:1",
          "  North Reading, MA   <br>Number of Jobs:1",
          "  Crownsville, MD   <br>Number of Jobs:1",
          "  Rogers, AR   <br>Number of Jobs:1",
          "  Irving, TX  (+1 other)    <br>Number of Jobs:1",
          "  Bolinas, CA   <br>Number of Jobs:1",
          "  Los Gatos, CA   <br>Number of Jobs:1",
          "  Dearing, KS   <br>Number of Jobs:1",
          "  Ann Arbor, MI   <br>Number of Jobs:1",
          "  Berkeley, CA   <br>Number of Jobs:1",
          "  Natick, MA   <br>Number of Jobs:1",
          "  Trenton, NJ   <br>Number of Jobs:1",
          "  Houston, TX   <br>Number of Jobs:1",
          "  Downers Grove, IL   (+12 others)   <br>Number of Jobs:1",
          "  United States   (+21 others)   <br>Number of Jobs:1",
          "  Clayton, IN   <br>Number of Jobs:1",
          "  Westborough, MA   <br>Number of Jobs:1",
          "  Pasadena, CA   <br>Number of Jobs:1",
          "  Boerne, TX   <br>Number of Jobs:1",
          "  Weehawken, NJ   <br>Number of Jobs:1",
          "  New York, NY   (+2 others)   <br>Number of Jobs:1",
          "  Lenexa, KS   <br>Number of Jobs:1",
          "  Champaign, IL   <br>Number of Jobs:1",
          "  Southborough, MA   <br>Number of Jobs:1",
          "  Illinois City, IL   <br>Number of Jobs:1",
          "  Evanston, IL   <br>Number of Jobs:1",
          "  Deerfield, IL   <br>Number of Jobs:1",
          "  Boston, MA  (+1 other)    <br>Number of Jobs:1",
          "  Cary, NC   <br>Number of Jobs:1",
          "  Arden Hills, MN   <br>Number of Jobs:1",
          "  Eagan, MN   <br>Number of Jobs:1",
          "  North Chicago, IL   <br>Number of Jobs:1",
          "  Illinois   <br>Number of Jobs:1",
          "  Huntsville, AL   <br>Number of Jobs:1",
          "  Princeton, NJ   <br>Number of Jobs:1",
          "  Arlington, TX   <br>Number of Jobs:1",
          "  Irvine, CA   <br>Number of Jobs:1",
          "  Charlotte, NC   <br>Number of Jobs:1",
          "  Pleasanton, CA   <br>Number of Jobs:1",
          "  Lincolnshire, IL   <br>Number of Jobs:1",
          "  Sausalito, CA   <br>Number of Jobs:1",
          "  Las Vegas, NV   <br>Number of Jobs:1",
          "  Woburn, MA   <br>Number of Jobs:1",
          "  Missouri  (+1 other)    <br>Number of Jobs:1",
          "  Edmond, OK   <br>Number of Jobs:1",
          "  Kansas City, MO   <br>Number of Jobs:1",
          "  White Plains, NY   <br>Number of Jobs:1",
          "  Roxton, TX   <br>Number of Jobs:1",
          "  Jefferson City, MO   <br>Number of Jobs:1",
          "  Emeryville, CA   <br>Number of Jobs:1",
          "  Grand Rapids, MI   <br>Number of Jobs:1",
          "  Minneapolis, MN   <br>Number of Jobs:1"
         ],
         "type": "scattergeo"
        },
        {
         "lat": [
          39.2908816,
          38.955696,
          36.0103562,
          37.6535403,
          38.8051095,
          38.9318369,
          39.10319795,
          38.9997621,
          39.1044123,
          38.9813699,
          null,
          38.8462236,
          42.3554334,
          33.4484367,
          42.3875968,
          37.2333253,
          39.1938429,
          36.7014631,
          37.4519671,
          47.6765382,
          33.7489924,
          32.7762719,
          37.6820583,
          34.0536909,
          32.7174202,
          37.3688301,
          39.1928853,
          39.26099215,
          32.8295183,
          47.6694141,
          37.496904,
          36.3728538,
          35.4729886,
          39.613321,
          43.074761,
          30.2711286,
          40.0149856,
          37.3893889,
          42.3750997,
          40.7596198
         ],
         "locationmode": "USA-states",
         "lon": [
          -76.610759,
          -77.34188283719988,
          -84.2696449,
          -122.4168664,
          -77.0470229,
          -77.1671337963356,
          -76.74651732045955,
          -77.02403709829767,
          -76.8669233,
          -77.0849245,
          null,
          -77.3063733,
          -71.060511,
          -112.074141,
          -71.0994968,
          -121.6846349,
          -76.86460919353361,
          -118.755997,
          -122.177992,
          -122.2070775,
          -84.3902644,
          -96.7968559,
          -121.768053,
          -118.242766,
          -117.1627728,
          -122.036349,
          -76.7241371,
          -76.74554777654639,
          -96.9442177,
          -122.1238767,
          -122.3330573,
          -94.2088172,
          -97.5170536,
          -105.016649,
          -89.3837613,
          -97.7436995,
          -105.270545,
          -122.0832101,
          -71.1056157,
          -111.886797
         ],
         "marker": {
          "color": "rgb(25, 167, 206)",
          "line": {
           "color": "rgb(40,40,40)",
           "width": 0.5
          },
          "size": [
           140,
           140,
           120,
           180,
           160,
           180,
           160,
           160,
           100,
           60,
           80,
           120,
           140,
           60,
           80,
           100,
           60,
           80,
           180,
           60,
           120,
           120,
           100,
           180,
           60,
           100,
           60,
           100,
           100,
           60,
           60,
           120,
           100,
           60,
           60,
           60,
           60,
           60,
           60,
           60
          ],
          "sizemode": "area"
         },
         "name": "3 - 10",
         "text": [
          "  Baltimore, MD   <br>Number of Jobs:7",
          "  Reston, VA   <br>Number of Jobs:7",
          "  Oak Ridge, TN   <br>Number of Jobs:6",
          "  South San Francisco, CA   <br>Number of Jobs:9",
          "  Alexandria, VA   <br>Number of Jobs:8",
          "  McLean, VA   <br>Number of Jobs:9",
          "  Fort Meade, MD   <br>Number of Jobs:8",
          "  Silver Spring, MD   <br>Number of Jobs:8",
          "  Laurel, MD   <br>Number of Jobs:5",
          "  Chevy Chase, MD   <br>Number of Jobs:3",
          "  United States  (+1 other)    <br>Number of Jobs:4",
          "  Fairfax, VA   <br>Number of Jobs:6",
          "  Boston, MA   <br>Number of Jobs:7",
          "  Phoenix, AZ   <br>Number of Jobs:3",
          "  Somerville, MA   <br>Number of Jobs:4",
          "  Santa Clara, CA   <br>Number of Jobs:5",
          "  Columbia, MD   <br>Number of Jobs:3",
          "  California   <br>Number of Jobs:4",
          "  Menlo Park, CA   <br>Number of Jobs:9",
          "  Kirkland, WA   <br>Number of Jobs:3",
          "  Atlanta, GA   <br>Number of Jobs:6",
          "  Dallas, TX   <br>Number of Jobs:6",
          "  Livermore, CA   <br>Number of Jobs:5",
          "  Los Angeles, CA   <br>Number of Jobs:9",
          "  San Diego, CA   <br>Number of Jobs:3",
          "  Sunnyvale, CA   <br>Number of Jobs:5",
          "  Hanover, MD   <br>Number of Jobs:3",
          "  Catonsville, MD   <br>Number of Jobs:5",
          "  Irving, TX   <br>Number of Jobs:5",
          "  Redmond, WA   <br>Number of Jobs:3",
          "  San Mateo, CA   <br>Number of Jobs:3",
          "  Bentonville, AR   <br>Number of Jobs:6",
          "  Oklahoma City, OK   <br>Number of Jobs:5",
          "  Littleton, CO   <br>Number of Jobs:3",
          "  Madison, WI   <br>Number of Jobs:3",
          "  Austin, TX   <br>Number of Jobs:3",
          "  Boulder, CO   <br>Number of Jobs:3",
          "  Mountain View, CA   <br>Number of Jobs:3",
          "  Cambridge, MA   <br>Number of Jobs:3",
          "  Salt Lake City, UT   <br>Number of Jobs:3"
         ],
         "type": "scattergeo"
        },
        {
         "lat": [
          38.8769326,
          38.98127255,
          38.9695316,
          47.6038321,
          37.4443293,
          37.3228934,
          41.8755616
         ],
         "locationmode": "USA-states",
         "lon": [
          -77.0893094,
          -77.12335871396549,
          -77.3859479,
          -122.330062,
          -122.1598465,
          -122.0322895,
          -87.6244212
         ],
         "marker": {
          "color": "rgb(97, 113, 67)",
          "line": {
           "color": "rgb(40,40,40)",
           "width": 0.5
          },
          "size": [
           380,
           240,
           280,
           280,
           240,
           220,
           300
          ],
          "sizemode": "area"
         },
         "name": "11 - 20",
         "text": [
          "  Arlington, VA   <br>Number of Jobs:19",
          "  Bethesda, MD   <br>Number of Jobs:12",
          "  Herndon, VA   <br>Number of Jobs:14",
          "  Seattle, WA   <br>Number of Jobs:14",
          "  Palo Alto, CA   <br>Number of Jobs:12",
          "  Cupertino, CA   <br>Number of Jobs:11",
          "  Chicago, IL   <br>Number of Jobs:15"
         ],
         "type": "scattergeo"
        },
        {
         "lat": [
          42.91256865,
          39.7837304,
          39.12545965,
          38.8950368,
          37.7790262
         ],
         "locationmode": "USA-states",
         "lon": [
          -76.73467469714646,
          -100.445882,
          -76.795323688298,
          -77.0365427,
          -122.419906
         ],
         "marker": {
          "color": "rgb(113, 73, 198)",
          "line": {
           "color": "rgb(40,40,40)",
           "width": 0.5
          },
          "size": [
           880,
           660,
           420,
           880,
           560
          ],
          "sizemode": "area"
         },
         "name": "20 - 50",
         "text": [
          "  New York, NY   <br>Number of Jobs:44",
          "  United States   <br>Number of Jobs:33",
          "  Annapolis Junction, MD   <br>Number of Jobs:21",
          "  Washington, DC   <br>Number of Jobs:44",
          "  San Francisco, CA   <br>Number of Jobs:28"
         ],
         "type": "scattergeo"
        },
        {
         "lat": [
          -32.5139575
         ],
         "locationmode": "USA-states",
         "lon": [
          19.9549592
         ],
         "marker": {
          "color": "rgb(255, 217, 90)",
          "line": {
           "color": "rgb(40,40,40)",
           "width": 0.5
          },
          "size": [
           3540
          ],
          "sizemode": "area"
         },
         "name": "50 - 200",
         "text": [
          " Anywhere <br>Number of Jobs:177"
         ],
         "type": "scattergeo"
        }
       ],
       "layout": {
        "geo": {
         "landcolor": "rgb(235, 218, 218)",
         "scope": "usa"
        },
        "legend": {
         "title": {
          "font": {
           "size": 14
          },
          "text": "Job Count Range"
         }
        },
        "showlegend": true,
        "template": {
         "data": {
          "bar": [
           {
            "error_x": {
             "color": "#2a3f5f"
            },
            "error_y": {
             "color": "#2a3f5f"
            },
            "marker": {
             "line": {
              "color": "#E5ECF6",
              "width": 0.5
             },
             "pattern": {
              "fillmode": "overlay",
              "size": 10,
              "solidity": 0.2
             }
            },
            "type": "bar"
           }
          ],
          "barpolar": [
           {
            "marker": {
             "line": {
              "color": "#E5ECF6",
              "width": 0.5
             },
             "pattern": {
              "fillmode": "overlay",
              "size": 10,
              "solidity": 0.2
             }
            },
            "type": "barpolar"
           }
          ],
          "carpet": [
           {
            "aaxis": {
             "endlinecolor": "#2a3f5f",
             "gridcolor": "white",
             "linecolor": "white",
             "minorgridcolor": "white",
             "startlinecolor": "#2a3f5f"
            },
            "baxis": {
             "endlinecolor": "#2a3f5f",
             "gridcolor": "white",
             "linecolor": "white",
             "minorgridcolor": "white",
             "startlinecolor": "#2a3f5f"
            },
            "type": "carpet"
           }
          ],
          "choropleth": [
           {
            "colorbar": {
             "outlinewidth": 0,
             "ticks": ""
            },
            "type": "choropleth"
           }
          ],
          "contour": [
           {
            "colorbar": {
             "outlinewidth": 0,
             "ticks": ""
            },
            "colorscale": [
             [
              0,
              "#0d0887"
             ],
             [
              0.1111111111111111,
              "#46039f"
             ],
             [
              0.2222222222222222,
              "#7201a8"
             ],
             [
              0.3333333333333333,
              "#9c179e"
             ],
             [
              0.4444444444444444,
              "#bd3786"
             ],
             [
              0.5555555555555556,
              "#d8576b"
             ],
             [
              0.6666666666666666,
              "#ed7953"
             ],
             [
              0.7777777777777778,
              "#fb9f3a"
             ],
             [
              0.8888888888888888,
              "#fdca26"
             ],
             [
              1,
              "#f0f921"
             ]
            ],
            "type": "contour"
           }
          ],
          "contourcarpet": [
           {
            "colorbar": {
             "outlinewidth": 0,
             "ticks": ""
            },
            "type": "contourcarpet"
           }
          ],
          "heatmap": [
           {
            "colorbar": {
             "outlinewidth": 0,
             "ticks": ""
            },
            "colorscale": [
             [
              0,
              "#0d0887"
             ],
             [
              0.1111111111111111,
              "#46039f"
             ],
             [
              0.2222222222222222,
              "#7201a8"
             ],
             [
              0.3333333333333333,
              "#9c179e"
             ],
             [
              0.4444444444444444,
              "#bd3786"
             ],
             [
              0.5555555555555556,
              "#d8576b"
             ],
             [
              0.6666666666666666,
              "#ed7953"
             ],
             [
              0.7777777777777778,
              "#fb9f3a"
             ],
             [
              0.8888888888888888,
              "#fdca26"
             ],
             [
              1,
              "#f0f921"
             ]
            ],
            "type": "heatmap"
           }
          ],
          "heatmapgl": [
           {
            "colorbar": {
             "outlinewidth": 0,
             "ticks": ""
            },
            "colorscale": [
             [
              0,
              "#0d0887"
             ],
             [
              0.1111111111111111,
              "#46039f"
             ],
             [
              0.2222222222222222,
              "#7201a8"
             ],
             [
              0.3333333333333333,
              "#9c179e"
             ],
             [
              0.4444444444444444,
              "#bd3786"
             ],
             [
              0.5555555555555556,
              "#d8576b"
             ],
             [
              0.6666666666666666,
              "#ed7953"
             ],
             [
              0.7777777777777778,
              "#fb9f3a"
             ],
             [
              0.8888888888888888,
              "#fdca26"
             ],
             [
              1,
              "#f0f921"
             ]
            ],
            "type": "heatmapgl"
           }
          ],
          "histogram": [
           {
            "marker": {
             "pattern": {
              "fillmode": "overlay",
              "size": 10,
              "solidity": 0.2
             }
            },
            "type": "histogram"
           }
          ],
          "histogram2d": [
           {
            "colorbar": {
             "outlinewidth": 0,
             "ticks": ""
            },
            "colorscale": [
             [
              0,
              "#0d0887"
             ],
             [
              0.1111111111111111,
              "#46039f"
             ],
             [
              0.2222222222222222,
              "#7201a8"
             ],
             [
              0.3333333333333333,
              "#9c179e"
             ],
             [
              0.4444444444444444,
              "#bd3786"
             ],
             [
              0.5555555555555556,
              "#d8576b"
             ],
             [
              0.6666666666666666,
              "#ed7953"
             ],
             [
              0.7777777777777778,
              "#fb9f3a"
             ],
             [
              0.8888888888888888,
              "#fdca26"
             ],
             [
              1,
              "#f0f921"
             ]
            ],
            "type": "histogram2d"
           }
          ],
          "histogram2dcontour": [
           {
            "colorbar": {
             "outlinewidth": 0,
             "ticks": ""
            },
            "colorscale": [
             [
              0,
              "#0d0887"
             ],
             [
              0.1111111111111111,
              "#46039f"
             ],
             [
              0.2222222222222222,
              "#7201a8"
             ],
             [
              0.3333333333333333,
              "#9c179e"
             ],
             [
              0.4444444444444444,
              "#bd3786"
             ],
             [
              0.5555555555555556,
              "#d8576b"
             ],
             [
              0.6666666666666666,
              "#ed7953"
             ],
             [
              0.7777777777777778,
              "#fb9f3a"
             ],
             [
              0.8888888888888888,
              "#fdca26"
             ],
             [
              1,
              "#f0f921"
             ]
            ],
            "type": "histogram2dcontour"
           }
          ],
          "mesh3d": [
           {
            "colorbar": {
             "outlinewidth": 0,
             "ticks": ""
            },
            "type": "mesh3d"
           }
          ],
          "parcoords": [
           {
            "line": {
             "colorbar": {
              "outlinewidth": 0,
              "ticks": ""
             }
            },
            "type": "parcoords"
           }
          ],
          "pie": [
           {
            "automargin": true,
            "type": "pie"
           }
          ],
          "scatter": [
           {
            "fillpattern": {
             "fillmode": "overlay",
             "size": 10,
             "solidity": 0.2
            },
            "type": "scatter"
           }
          ],
          "scatter3d": [
           {
            "line": {
             "colorbar": {
              "outlinewidth": 0,
              "ticks": ""
             }
            },
            "marker": {
             "colorbar": {
              "outlinewidth": 0,
              "ticks": ""
             }
            },
            "type": "scatter3d"
           }
          ],
          "scattercarpet": [
           {
            "marker": {
             "colorbar": {
              "outlinewidth": 0,
              "ticks": ""
             }
            },
            "type": "scattercarpet"
           }
          ],
          "scattergeo": [
           {
            "marker": {
             "colorbar": {
              "outlinewidth": 0,
              "ticks": ""
             }
            },
            "type": "scattergeo"
           }
          ],
          "scattergl": [
           {
            "marker": {
             "colorbar": {
              "outlinewidth": 0,
              "ticks": ""
             }
            },
            "type": "scattergl"
           }
          ],
          "scattermapbox": [
           {
            "marker": {
             "colorbar": {
              "outlinewidth": 0,
              "ticks": ""
             }
            },
            "type": "scattermapbox"
           }
          ],
          "scatterpolar": [
           {
            "marker": {
             "colorbar": {
              "outlinewidth": 0,
              "ticks": ""
             }
            },
            "type": "scatterpolar"
           }
          ],
          "scatterpolargl": [
           {
            "marker": {
             "colorbar": {
              "outlinewidth": 0,
              "ticks": ""
             }
            },
            "type": "scatterpolargl"
           }
          ],
          "scatterternary": [
           {
            "marker": {
             "colorbar": {
              "outlinewidth": 0,
              "ticks": ""
             }
            },
            "type": "scatterternary"
           }
          ],
          "surface": [
           {
            "colorbar": {
             "outlinewidth": 0,
             "ticks": ""
            },
            "colorscale": [
             [
              0,
              "#0d0887"
             ],
             [
              0.1111111111111111,
              "#46039f"
             ],
             [
              0.2222222222222222,
              "#7201a8"
             ],
             [
              0.3333333333333333,
              "#9c179e"
             ],
             [
              0.4444444444444444,
              "#bd3786"
             ],
             [
              0.5555555555555556,
              "#d8576b"
             ],
             [
              0.6666666666666666,
              "#ed7953"
             ],
             [
              0.7777777777777778,
              "#fb9f3a"
             ],
             [
              0.8888888888888888,
              "#fdca26"
             ],
             [
              1,
              "#f0f921"
             ]
            ],
            "type": "surface"
           }
          ],
          "table": [
           {
            "cells": {
             "fill": {
              "color": "#EBF0F8"
             },
             "line": {
              "color": "white"
             }
            },
            "header": {
             "fill": {
              "color": "#C8D4E3"
             },
             "line": {
              "color": "white"
             }
            },
            "type": "table"
           }
          ]
         },
         "layout": {
          "annotationdefaults": {
           "arrowcolor": "#2a3f5f",
           "arrowhead": 0,
           "arrowwidth": 1
          },
          "autotypenumbers": "strict",
          "coloraxis": {
           "colorbar": {
            "outlinewidth": 0,
            "ticks": ""
           }
          },
          "colorscale": {
           "diverging": [
            [
             0,
             "#8e0152"
            ],
            [
             0.1,
             "#c51b7d"
            ],
            [
             0.2,
             "#de77ae"
            ],
            [
             0.3,
             "#f1b6da"
            ],
            [
             0.4,
             "#fde0ef"
            ],
            [
             0.5,
             "#f7f7f7"
            ],
            [
             0.6,
             "#e6f5d0"
            ],
            [
             0.7,
             "#b8e186"
            ],
            [
             0.8,
             "#7fbc41"
            ],
            [
             0.9,
             "#4d9221"
            ],
            [
             1,
             "#276419"
            ]
           ],
           "sequential": [
            [
             0,
             "#0d0887"
            ],
            [
             0.1111111111111111,
             "#46039f"
            ],
            [
             0.2222222222222222,
             "#7201a8"
            ],
            [
             0.3333333333333333,
             "#9c179e"
            ],
            [
             0.4444444444444444,
             "#bd3786"
            ],
            [
             0.5555555555555556,
             "#d8576b"
            ],
            [
             0.6666666666666666,
             "#ed7953"
            ],
            [
             0.7777777777777778,
             "#fb9f3a"
            ],
            [
             0.8888888888888888,
             "#fdca26"
            ],
            [
             1,
             "#f0f921"
            ]
           ],
           "sequentialminus": [
            [
             0,
             "#0d0887"
            ],
            [
             0.1111111111111111,
             "#46039f"
            ],
            [
             0.2222222222222222,
             "#7201a8"
            ],
            [
             0.3333333333333333,
             "#9c179e"
            ],
            [
             0.4444444444444444,
             "#bd3786"
            ],
            [
             0.5555555555555556,
             "#d8576b"
            ],
            [
             0.6666666666666666,
             "#ed7953"
            ],
            [
             0.7777777777777778,
             "#fb9f3a"
            ],
            [
             0.8888888888888888,
             "#fdca26"
            ],
            [
             1,
             "#f0f921"
            ]
           ]
          },
          "colorway": [
           "#636efa",
           "#EF553B",
           "#00cc96",
           "#ab63fa",
           "#FFA15A",
           "#19d3f3",
           "#FF6692",
           "#B6E880",
           "#FF97FF",
           "#FECB52"
          ],
          "font": {
           "color": "#2a3f5f"
          },
          "geo": {
           "bgcolor": "white",
           "lakecolor": "white",
           "landcolor": "#E5ECF6",
           "showlakes": true,
           "showland": true,
           "subunitcolor": "white"
          },
          "hoverlabel": {
           "align": "left"
          },
          "hovermode": "closest",
          "mapbox": {
           "style": "light"
          },
          "paper_bgcolor": "white",
          "plot_bgcolor": "#E5ECF6",
          "polar": {
           "angularaxis": {
            "gridcolor": "white",
            "linecolor": "white",
            "ticks": ""
           },
           "bgcolor": "#E5ECF6",
           "radialaxis": {
            "gridcolor": "white",
            "linecolor": "white",
            "ticks": ""
           }
          },
          "scene": {
           "xaxis": {
            "backgroundcolor": "#E5ECF6",
            "gridcolor": "white",
            "gridwidth": 2,
            "linecolor": "white",
            "showbackground": true,
            "ticks": "",
            "zerolinecolor": "white"
           },
           "yaxis": {
            "backgroundcolor": "#E5ECF6",
            "gridcolor": "white",
            "gridwidth": 2,
            "linecolor": "white",
            "showbackground": true,
            "ticks": "",
            "zerolinecolor": "white"
           },
           "zaxis": {
            "backgroundcolor": "#E5ECF6",
            "gridcolor": "white",
            "gridwidth": 2,
            "linecolor": "white",
            "showbackground": true,
            "ticks": "",
            "zerolinecolor": "white"
           }
          },
          "shapedefaults": {
           "line": {
            "color": "#2a3f5f"
           }
          },
          "ternary": {
           "aaxis": {
            "gridcolor": "white",
            "linecolor": "white",
            "ticks": ""
           },
           "baxis": {
            "gridcolor": "white",
            "linecolor": "white",
            "ticks": ""
           },
           "bgcolor": "#E5ECF6",
           "caxis": {
            "gridcolor": "white",
            "linecolor": "white",
            "ticks": ""
           }
          },
          "title": {
           "x": 0.05
          },
          "xaxis": {
           "automargin": true,
           "gridcolor": "white",
           "linecolor": "white",
           "ticks": "",
           "title": {
            "standoff": 15
           },
           "zerolinecolor": "white",
           "zerolinewidth": 2
          },
          "yaxis": {
           "automargin": true,
           "gridcolor": "white",
           "linecolor": "white",
           "ticks": "",
           "title": {
            "standoff": 15
           },
           "zerolinecolor": "white",
           "zerolinewidth": 2
          }
         }
        },
        "title": {
         "text": "Data-Related Job Searches in the United States: April 2023"
        }
       }
      }
     },
     "metadata": {},
     "output_type": "display_data"
    }
   ],
   "source": [
    "limits = [(0,2),(3,10),(11,20),(20,50),(50,200)]\n",
    "colors = [\"rgb(237, 43, 42)\",\"rgb(25, 167, 206)\",\"rgb(97, 113, 67)\",\"rgb(113, 73, 198)\",\"rgb(255, 217, 90)\"]\n",
    "scale = 5000\n",
    "merged_df[\"text\"] = merged_df[\"location\"] + '<br>Number of Jobs:' + merged_df['count'].astype(str)\n",
    "\n",
    "fig = go.Figure()\n",
    "\n",
    "for i in range(len(limits)):\n",
    "    lim = limits[i]\n",
    "    df_sub = merged_df[(merged_df['count'] >= lim[0]) & (merged_df['count'] < lim[1])]\n",
    "    fig.add_trace(go.Scattergeo(\n",
    "        locationmode = 'USA-states',\n",
    "        lon = df_sub['longitude'],\n",
    "        lat = df_sub['latitude'],\n",
    "        text = df_sub['text'],\n",
    "        marker = dict(\n",
    "            size = df_sub['count']*20,\n",
    "            color = colors[i],\n",
    "            line_color='rgb(40,40,40)',\n",
    "            line_width=0.5,\n",
    "            sizemode = 'area'\n",
    "        ),\n",
    "        name = '{0} - {1}'.format(lim[0],lim[1]))),\n",
    "\n",
    "fig.update_layout(\n",
    "        title_text = 'Data-Related Job Searches in the United States: April 2023',\n",
    "        showlegend = True,\n",
    "        geo = dict(\n",
    "            scope = 'usa',\n",
    "            landcolor = 'rgb(235, 218, 218)',\n",
    "        )\n",
    "    )\n",
    "\n",
    "fig.update_layout(\n",
    "    legend=dict(\n",
    "        title=dict(\n",
    "            text=\"Job Count Range\",\n",
    "            font=dict(\n",
    "                size=14\n",
    "            )\n",
    "        )\n",
    "    )\n",
    ")\n",
    "fig.show()\n"
   ]
  }
 ],
 "metadata": {
  "kernelspec": {
   "display_name": "Python 3.10.8 ('anly503')",
   "language": "python",
   "name": "python3"
  },
  "language_info": {
   "codemirror_mode": {
    "name": "ipython",
    "version": 3
   },
   "file_extension": ".py",
   "mimetype": "text/x-python",
   "name": "python",
   "nbconvert_exporter": "python",
   "pygments_lexer": "ipython3",
   "version": "3.10.8"
  },
  "orig_nbformat": 4,
  "vscode": {
   "interpreter": {
    "hash": "7bc8610d3a4e8697fbcca6cd340a877d04a382089f033c69504ffedec9e80b95"
   }
  }
 },
 "nbformat": 4,
 "nbformat_minor": 2
}
