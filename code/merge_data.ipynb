{
 "cells": [
  {
   "cell_type": "code",
   "execution_count": 1,
   "metadata": {},
   "outputs": [],
   "source": [
    "import json\n",
    "import os\n",
    "import pandas as pd\n",
    "import numpy as np"
   ]
  },
  {
   "cell_type": "code",
   "execution_count": 2,
   "metadata": {},
   "outputs": [],
   "source": [
    "path = \"../data/raw/2023-04-14-job-search/2023-04-14-job-search-location-DC\"\n",
    "file_names = os.listdir(path)\n",
    "\n",
    "df_list = []\n",
    "\n",
    "for name in file_names:\n",
    "    file_path = os.path.join(path, name)\n",
    "    json_file = json.load(open(file_path))\n",
    "    if 'jobs_results' in json_file:\n",
    "        df_json = pd.DataFrame(json_file['jobs_results'])\n",
    "        df_json['search'] = name.split(\".\")[0]\n",
    "        df_json['search_location'] = 'DC'\n",
    "        df_list.append(df_json)\n",
    "\n",
    "df_dc = pd.concat(df_list, ignore_index=True)"
   ]
  },
  {
   "cell_type": "code",
   "execution_count": 3,
   "metadata": {},
   "outputs": [],
   "source": [
    "df_highlights = df_dc['job_highlights'].apply(pd.Series)\n",
    "df_highlights.columns = ['Qualification', 'Responsiblilites', 'Benefits']\n",
    "\n",
    "df_highlights = df_highlights.applymap(lambda x: x.get('items') if isinstance(x, dict) else [\"None\"])\n",
    "df_highlights = df_highlights.applymap(lambda x: ''.join(x))\n",
    "\n",
    "df_dc_1 = pd.concat([df_dc, df_highlights], axis=1)\n",
    "\n",
    "df_dc_1['wfh'] = df_dc['detected_extensions'].apply(lambda x: x.get('work_from_home') == True)\n",
    "df_dc_1['schedule_type'] = df_dc['detected_extensions'].apply(lambda x: x.get('schedule_type'))\n"
   ]
  },
  {
   "cell_type": "code",
   "execution_count": 4,
   "metadata": {},
   "outputs": [],
   "source": [
    "path = \"../data/raw/2023-04-14-job-search/2023-04-14-job-search-location-USA\"\n",
    "file_names = os.listdir(path)\n",
    "\n",
    "df_list = []\n",
    "\n",
    "for name in file_names:\n",
    "    file_path = os.path.join(path, name)\n",
    "    json_file = json.load(open(file_path))\n",
    "    if 'jobs_results' in json_file:\n",
    "        df_json = pd.DataFrame(json_file['jobs_results'])\n",
    "        df_json['search'] = name.split(\".\")[0]\n",
    "        df_json['search_location'] = 'USA'\n",
    "        df_list.append(df_json)\n",
    "\n",
    "df_usa = pd.concat(df_list, ignore_index=True)"
   ]
  },
  {
   "cell_type": "code",
   "execution_count": 5,
   "metadata": {},
   "outputs": [],
   "source": [
    "df_highlights = df_usa['job_highlights'].apply(pd.Series)\n",
    "df_highlights.columns = ['Qualification', 'Responsiblilites', 'Benefits']\n",
    "\n",
    "df_highlights = df_highlights.applymap(lambda x: x.get('items') if isinstance(x, dict) else [\"None\"])\n",
    "df_highlights = df_highlights.applymap(lambda x: ''.join(x))\n",
    "\n",
    "df_usa_1 = pd.concat([df_usa, df_highlights], axis=1)\n",
    "\n",
    "df_usa_1['wfh'] = df_usa_1['detected_extensions'].apply(lambda x: x.get('work_from_home') == True)\n",
    "df_usa_1['schedule_type'] = df_usa_1['detected_extensions'].apply(lambda x: x.get('schedule_type'))\n"
   ]
  },
  {
   "cell_type": "code",
   "execution_count": 6,
   "metadata": {},
   "outputs": [],
   "source": [
    "df_all = pd.concat([df_dc_1, df_usa_1])"
   ]
  },
  {
   "cell_type": "code",
   "execution_count": 7,
   "metadata": {},
   "outputs": [],
   "source": [
    "df_dc_1.to_csv(\"../data/cleaned/dc_job.csv\")\n",
    "df_usa_1.to_csv(\"../data/cleaned/usa_job.csv\")\n",
    "df_all.to_csv('../data/cleaned/all_job.csv')"
   ]
  }
 ],
 "metadata": {
  "kernelspec": {
   "display_name": "Python 3.10.8 ('anly503')",
   "language": "python",
   "name": "python3"
  },
  "language_info": {
   "codemirror_mode": {
    "name": "ipython",
    "version": 3
   },
   "file_extension": ".py",
   "mimetype": "text/x-python",
   "name": "python",
   "nbconvert_exporter": "python",
   "pygments_lexer": "ipython3",
   "version": "3.10.8"
  },
  "orig_nbformat": 4,
  "vscode": {
   "interpreter": {
    "hash": "7bc8610d3a4e8697fbcca6cd340a877d04a382089f033c69504ffedec9e80b95"
   }
  }
 },
 "nbformat": 4,
 "nbformat_minor": 2
}
